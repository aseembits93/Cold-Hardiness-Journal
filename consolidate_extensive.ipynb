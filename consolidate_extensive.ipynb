{
 "cells": [
  {
   "cell_type": "code",
   "execution_count": 1,
   "id": "4c68c867",
   "metadata": {},
   "outputs": [],
   "source": [
    "import pickle\n",
    "import numpy\n",
    "import pandas as pd\n",
    "from collections import OrderedDict\n",
    "import glob "
   ]
  },
  {
   "cell_type": "code",
   "execution_count": null,
   "id": "ab057a7a",
   "metadata": {},
   "outputs": [],
   "source": [
    "with open('models/extensive/mtl_losses.pkl','rb') as f:\n",
    "    data_dict = pickle.load(f)\n",
    "    print(data_dict)"
   ]
  },
  {
   "cell_type": "code",
   "execution_count": null,
   "id": "4c705cde",
   "metadata": {},
   "outputs": [],
   "source": [
    "# with open('models/extensive/mtl_all_losses.pkl','rb') as f:\n",
    "#     data_dict = pickle.load(f)\n",
    "#     avg = 0\n",
    "#     for trial in data_dict['mtl_all'].keys():\n",
    "#         avg+= data_dict['mtl_all'][trial]['Cabernet Franc'][1]\n",
    "#     print(\"Cultivar\", key, \"Loss\", avg/3)"
   ]
  },
  {
   "cell_type": "code",
   "execution_count": null,
   "id": "8137b2cf",
   "metadata": {},
   "outputs": [],
   "source": [
    "# with open('models/extensive/multiplicative_embedding_losses.pkl','rb') as f:\n",
    "#     data_dict = pickle.load(f)\n",
    "# for key in data_dict.keys():\n",
    "#     avg = 0\n",
    "#     for trial in data_dict[key].keys():\n",
    "#         avg+= data_dict[key][trial][key][1]\n",
    "#     print(\"Cultivar\", key, \"Loss\", avg/3)   "
   ]
  },
  {
   "cell_type": "code",
   "execution_count": null,
   "id": "2a3a76d1",
   "metadata": {},
   "outputs": [],
   "source": [
    "# write_csv = dict()\n",
    "# write_csv_1 = dict()\n",
    "# valid_cultivars = ['Zinfandel', 'Cabernet Franc', 'Concord', 'Malbec', 'Barbera', 'Semillon', 'Merlot', 'Lemberger', 'Chenin Blanc', 'Riesling', 'Nebbiolo', 'Cabernet Sauvignon', 'Chardonnay', 'Viognier', 'Gewurztraminer', 'Mourvedre', 'Pinot Gris', 'Grenache', 'Syrah', 'Sangiovese', 'Sauvignon Blanc']\n",
    "# experiment_list = ['additive_embedding', 'concat_embedding', 'multiplicative_embedding','mtl','single']\n",
    "# for experiment in experiment_list:\n",
    "#     experiment_file = experiment+'_losses.pkl'\n",
    "#     with open('./models/extensive/'+experiment_file,'rb') as f:\n",
    "#         data_dict = pickle.load(f)\n",
    "#     for key in data_dict.keys():\n",
    "#         avg = 0\n",
    "#         for trial in data_dict[key].keys():\n",
    "#             avg+= data_dict[key][trial][key][1]\n",
    "#         if key not in write_csv_1.keys():\n",
    "#             write_csv_1[key] = {exp:0 for exp in experiment_list}\n",
    "#         write_csv_1[key][experiment] = avg/3.0    \n",
    "#         #print(\"Experiment\", experiment, \"Cultivar\", key, \"Loss\", avg/3)  \n",
    "# with open('models/extensive/mtl_all_losses.pkl','rb') as f:\n",
    "#     data_dict = pickle.load(f)\n",
    "#     for cultivar in valid_cultivars:\n",
    "#         avg = 0\n",
    "#         for trial in data_dict['mtl_all'].keys():\n",
    "#             avg+= data_dict['mtl_all'][trial][cultivar][1]\n",
    "#         #print(\"Experiment\", \"mtl_all\", \"Cultivar\", cultivar, \"Loss\", avg/3)  \n",
    "#         write_csv_1[cultivar]['mtl_all'] = avg/3.0     "
   ]
  },
  {
   "cell_type": "code",
   "execution_count": null,
   "id": "9c7198f7",
   "metadata": {},
   "outputs": [],
   "source": [
    "write_csv_1"
   ]
  },
  {
   "cell_type": "code",
   "execution_count": null,
   "id": "424a4bc6",
   "metadata": {},
   "outputs": [],
   "source": [
    "# experiment_list = ['additive_embedding','concat_embedding', 'multiplicative_embedding','mtl_all','mtl','single']\n",
    "# write_csv = dict()\n",
    "# write_csv['Cultivar'] = list()\n",
    "# write_csv.update({exp:list() for exp in experiment_list})\n",
    "# for cultivar in write_csv_1.keys():\n",
    "#     write_csv['Cultivar'].append(cultivar)\n",
    "#     for exp in experiment_list:\n",
    "#         write_csv[exp].append(write_csv_1[cultivar][exp])"
   ]
  },
  {
   "cell_type": "code",
   "execution_count": null,
   "id": "018f0574",
   "metadata": {},
   "outputs": [],
   "source": [
    "# write_csv"
   ]
  },
  {
   "cell_type": "code",
   "execution_count": null,
   "id": "eb9410cc",
   "metadata": {},
   "outputs": [],
   "source": [
    "# pd.DataFrame(write_csv).to_csv('extensive.csv', header=True, index=False)"
   ]
  },
  {
   "cell_type": "code",
   "execution_count": null,
   "id": "8537c265",
   "metadata": {},
   "outputs": [],
   "source": [
    "\n",
    "print(experiment_list)"
   ]
  },
  {
   "cell_type": "code",
   "execution_count": null,
   "id": "ddad8f10",
   "metadata": {},
   "outputs": [],
   "source": [
    "write_csv_1 = dict()\n",
    "valid_cultivars = ['Zinfandel', 'Cabernet Franc', 'Concord', 'Malbec', 'Barbera', 'Semillon', 'Merlot', 'Lemberger', 'Chenin Blanc', 'Riesling', 'Nebbiolo', 'Cabernet Sauvignon', 'Chardonnay', 'Viognier', 'Gewurztraminer', 'Mourvedre', 'Pinot Gris', 'Grenache', 'Syrah', 'Sangiovese', 'Sauvignon Blanc']\n",
    "#experiment_list = ['concat_embedding_all', 'multiplicative_embedding_all','mtl_all','additive_embedding_all','single']\n",
    "experiment_list = glob.glob('./models/train_test_split/*.pkl')\n",
    "experiment_names = ['_'.join(x.split('/')[-1].split('.')[0].split('_')[:-1]) for x in experiment_list]\n",
    "# experiment_list = ['ferguson']\n",
    "# for experiment in experiment_list:\n",
    "#     experiment_file = experiment+'_losses.pkl'\n",
    "#     with open('./models/train_test_split/'+experiment_file,'rb') as f:\n",
    "#         data_dict = pickle.load(f)\n",
    "#     for key in data_dict.keys():\n",
    "#         avg = 0\n",
    "#         for trial in data_dict[key].keys():\n",
    "#             avg+= data_dict[key][trial][key][1]\n",
    "#         if key not in write_csv_1.keys():\n",
    "#             write_csv_1[key] = {exp:0 for exp in experiment_list}\n",
    "#         write_csv_1[key][experiment] = avg/3.0    \n",
    "        #print(\"Experiment\", experiment, \"Cultivar\", key, \"Loss\", avg/3)  \n",
    "for experiment_name, experiment in zip(experiment_names, experiment_list):\n",
    "    with open(experiment,'rb') as f:\n",
    "        data_dict = pickle.load(f)\n",
    "        print(experiment_name)\n",
    "        for cultivar in valid_cultivars:\n",
    "            avg = 0\n",
    "            if 'all' in experiment_name:\n",
    "                for trial in data_dict[experiment_name].keys():\n",
    "                    avg+= data_dict[experiment_name][trial][cultivar][1]\n",
    "            else:\n",
    "                for trial in data_dict[cultivar].keys():\n",
    "                    avg+= data_dict[cultivar][trial][cultivar][1]    \n",
    "            if cultivar not in write_csv_1.keys():\n",
    "                write_csv_1[cultivar] = {exp:0 for exp in experiment_names}\n",
    "            #print(\"Experiment\", \"mtl_all\", \"Cultivar\", cultivar, \"Loss\", avg/3)  \n",
    "            write_csv_1[cultivar][experiment_name] = avg/3.0     \n",
    "# experiment_list = ['concat_embedding_all', 'multiplicative_embedding_all','mtl_all','single']\n",
    "# experiment_list = ['ferguson']\n",
    "write_csv = dict()\n",
    "write_csv['Cultivar'] = list()\n",
    "write_csv.update({exp:list() for exp in experiment_names})\n",
    "for cultivar in write_csv_1.keys():\n",
    "    write_csv['Cultivar'].append(cultivar)\n",
    "    for exp in experiment_names:\n",
    "        write_csv[exp].append(write_csv_1[cultivar][exp])  \n",
    "pd.DataFrame(write_csv).to_csv('latest.csv', header=True, index=False)        "
   ]
  },
  {
   "cell_type": "code",
   "execution_count": null,
   "id": "99b3c56a",
   "metadata": {},
   "outputs": [],
   "source": [
    "print(experiment_list)"
   ]
  },
  {
   "cell_type": "code",
   "execution_count": null,
   "id": "3a5b4313",
   "metadata": {},
   "outputs": [],
   "source": [
    "experiment_names = ['_'.join(x.split('/')[-1].split('.')[0].split('_')[:-1]) for x in experiment_list]"
   ]
  },
  {
   "cell_type": "code",
   "execution_count": null,
   "id": "4abd7ae5",
   "metadata": {},
   "outputs": [],
   "source": [
    "experiment_names\n"
   ]
  },
  {
   "cell_type": "code",
   "execution_count": null,
   "id": "d0c2f616",
   "metadata": {},
   "outputs": [],
   "source": [
    "data_dict.keys()"
   ]
  },
  {
   "cell_type": "code",
   "execution_count": null,
   "id": "ad637bcb",
   "metadata": {},
   "outputs": [],
   "source": [
    "experiment_name"
   ]
  },
  {
   "cell_type": "code",
   "execution_count": null,
   "id": "d2284155",
   "metadata": {},
   "outputs": [],
   "source": [
    "write_csv_1 = dict()\n",
    "valid_cultivars = ['Zinfandel', 'Cabernet Franc', 'Concord', 'Malbec', 'Barbera', 'Semillon', 'Merlot', 'Lemberger', 'Chenin Blanc', 'Riesling', 'Nebbiolo', 'Cabernet Sauvignon', 'Chardonnay', 'Viognier', 'Gewurztraminer', 'Mourvedre', 'Pinot Gris', 'Grenache', 'Syrah', 'Sangiovese', 'Sauvignon Blanc']\n",
    "#experiment_list = ['concat_embedding_all', 'multiplicative_embedding_all','mtl_all','additive_embedding_all','single']\n",
    "experiment_list = glob.glob('./models/test_new_api/*.pkl')\n",
    "experiment_list = [x.split('/')[-1].split('.')[0] for x in experiment_list if 'allfinetune' not in x]\n",
    "#experiment_names = ['_'.join(x.split('/')[-1].split('.')[0].split('_')[0:2]) for x in experiment_list]\n",
    "#print(experiment_list, len(experiment_list))\n",
    "# experiment_list = ['ferguson']\n",
    "# for experiment in experiment_list:\n",
    "#     experiment_file = experiment+'_losses.pkl'\n",
    "#     with open('./models/train_test_split/'+experiment_file,'rb') as f:\n",
    "#         data_dict = pickle.load(f)\n",
    "#     for key in data_dict.keys():\n",
    "#         avg = 0\n",
    "#         for trial in data_dict[key].keys():\n",
    "#             avg+= data_dict[key][trial][key][1]\n",
    "#         if key not in write_csv_1.keys():\n",
    "#             write_csv_1[key] = {exp:0 for exp in experiment_list}\n",
    "#         write_csv_1[key][experiment] = avg/3.0    \n",
    "        #print(\"Experiment\", experiment, \"Cultivar\", key, \"Loss\", avg/3)  \n",
    "for experiment in experiment_list:\n",
    "    with open('./models/test_new_api/'+experiment+'.pkl','rb') as f:\n",
    "        data_dict = pickle.load(f)\n",
    "        print(experiment)\n",
    "        if 'embedding' in experiment:\n",
    "            experiment_name = '_'.join(experiment.split('_')[:2])\n",
    "        elif 'mtl' in experiment:\n",
    "            experiment_name = '_'.join(experiment.split('_')[:1])\n",
    "        else:\n",
    "            pass\n",
    "        if '_all_' in experiment:\n",
    "            allflag=True\n",
    "            print(data_dict.keys())\n",
    "        else:\n",
    "            print(data_dict.keys())\n",
    "        for cultivar in valid_cultivars:\n",
    "            avg = 0\n",
    "            if allflag:\n",
    "                for trial in data_dict[experiment_name].keys():\n",
    "                    avg+= data_dict[experiment_name][trial][cultivar][1]\n",
    "            else:\n",
    "                #print(data_dict[cultivar].keys())\n",
    "                for trial in data_dict[cultivar].keys():\n",
    "                    avg+= data_dict[cultivar][trial][cultivar][1]    \n",
    "            print(avg/3,'avg')\n",
    "            if cultivar not in write_csv_1.keys():\n",
    "                write_csv_1[cultivar] = {exp:0 for exp in experiment_list}\n",
    "            #print(\"Experiment\", \"mtl_all\", \"Cultivar\", cultivar, \"Loss\", avg/3)  \n",
    "            write_csv_1[cultivar][experiment] = avg/3.0   \n",
    "        #allflag=False    \n",
    "# experiment_list = ['concat_embedding_all', 'multiplicative_embedding_all','mtl_all','single']\n",
    "# experiment_list = ['ferguson']\n",
    "write_csv = dict()\n",
    "write_csv['Cultivar'] = list()\n",
    "write_csv.update({exp:list() for exp in experiment_list})\n",
    "for cultivar in write_csv_1.keys():\n",
    "    write_csv['Cultivar'].append(cultivar)\n",
    "    for exp in experiment_list:\n",
    "        write_csv[exp].append(write_csv_1[cultivar][exp])  \n",
    "pd.DataFrame(write_csv).to_csv('latest2.csv', header=True, index=False)        "
   ]
  },
  {
   "cell_type": "code",
   "execution_count": null,
   "id": "90dbe8f9",
   "metadata": {},
   "outputs": [],
   "source": [
    "data_dict['Zinfandel']"
   ]
  },
  {
   "cell_type": "code",
   "execution_count": null,
   "id": "a7f74563",
   "metadata": {},
   "outputs": [],
   "source": [
    "data_dict['Merlot']"
   ]
  },
  {
   "cell_type": "code",
   "execution_count": null,
   "id": "5fc1efd4",
   "metadata": {},
   "outputs": [],
   "source": [
    "data_dict.keys()\n"
   ]
  },
  {
   "cell_type": "code",
   "execution_count": null,
   "id": "627242e5",
   "metadata": {},
   "outputs": [],
   "source": [
    "for key in data_dict.keys():\n",
    "    print(data_dict[key])"
   ]
  },
  {
   "cell_type": "code",
   "execution_count": null,
   "id": "9a69f936",
   "metadata": {},
   "outputs": [],
   "source": [
    "write_csv_1"
   ]
  },
  {
   "cell_type": "code",
   "execution_count": null,
   "id": "ef33546e",
   "metadata": {},
   "outputs": [],
   "source": [
    "write_csv\n"
   ]
  },
  {
   "cell_type": "code",
   "execution_count": null,
   "id": "0022dc1c",
   "metadata": {},
   "outputs": [],
   "source": [
    "data_dict"
   ]
  },
  {
   "cell_type": "code",
   "execution_count": null,
   "id": "f908dcc2",
   "metadata": {},
   "outputs": [],
   "source": [
    "write_csv_1 = dict()\n",
    "valid_cultivars = ['Zinfandel', 'Cabernet Franc', 'Concord', 'Malbec', 'Barbera', 'Semillon', 'Merlot', 'Lemberger', 'Chenin Blanc', 'Riesling', 'Nebbiolo', 'Cabernet Sauvignon', 'Chardonnay', 'Viognier', 'Gewurztraminer', 'Mourvedre', 'Pinot Gris', 'Grenache', 'Syrah', 'Sangiovese', 'Sauvignon Blanc']\n",
    "#experiment_list = ['concat_embedding_all', 'multiplicative_embedding_all','mtl_all','additive_embedding_all','single']\n",
    "experiment_list = glob.glob('./models/mtl_all_inv_freq/*.pkl')\n",
    "experiment_names = ['_'.join(x.split('/')[-1].split('.')[0].split('_')[:-1]) for x in experiment_list]\n",
    "# experiment_list = ['ferguson']\n",
    "# for experiment in experiment_list:\n",
    "#     experiment_file = experiment+'_losses.pkl'\n",
    "#     with open('./models/train_test_split/'+experiment_file,'rb') as f:\n",
    "#         data_dict = pickle.load(f)\n",
    "#     for key in data_dict.keys():\n",
    "#         avg = 0\n",
    "#         for trial in data_dict[key].keys():\n",
    "#             avg+= data_dict[key][trial][key][1]\n",
    "#         if key not in write_csv_1.keys():\n",
    "#             write_csv_1[key] = {exp:0 for exp in experiment_list}\n",
    "#         write_csv_1[key][experiment] = avg/3.0    \n",
    "        #print(\"Experiment\", experiment, \"Cultivar\", key, \"Loss\", avg/3)  \n",
    "for experiment_name, experiment in zip(experiment_names, experiment_list):\n",
    "    with open(experiment,'rb') as f:\n",
    "        data_dict = pickle.load(f)\n",
    "        print(experiment_name)\n",
    "        for cultivar in valid_cultivars:\n",
    "            avg = 0\n",
    "            if 'all' in experiment_name:\n",
    "                for trial in data_dict[experiment_name].keys():\n",
    "                    avg+= data_dict[experiment_name][trial][cultivar][1]\n",
    "            else:\n",
    "                for trial in data_dict[cultivar].keys():\n",
    "                    avg+= data_dict[cultivar][trial][cultivar][1]    \n",
    "            if cultivar not in write_csv_1.keys():\n",
    "                write_csv_1[cultivar] = {exp:0 for exp in experiment_names}\n",
    "            #print(\"Experiment\", \"mtl_all\", \"Cultivar\", cultivar, \"Loss\", avg/3)  \n",
    "            write_csv_1[cultivar][experiment_name] = avg/3.0     \n",
    "# experiment_list = ['concat_embedding_all', 'multiplicative_embedding_all','mtl_all','single']\n",
    "# experiment_list = ['ferguson']\n",
    "write_csv = dict()\n",
    "write_csv['Cultivar'] = list()\n",
    "write_csv.update({exp:list() for exp in experiment_names})\n",
    "for cultivar in write_csv_1.keys():\n",
    "    write_csv['Cultivar'].append(cultivar)\n",
    "    for exp in experiment_names:\n",
    "        write_csv[exp].append(write_csv_1[cultivar][exp])  \n",
    "pd.DataFrame(write_csv).to_csv('latest_invfreq.csv', header=True, index=False)        "
   ]
  },
  {
   "cell_type": "code",
   "execution_count": 2,
   "id": "7a7a1b01",
   "metadata": {},
   "outputs": [
    {
     "name": "stdout",
     "output_type": "stream",
     "text": [
      "multiplicative_embedding_setting_allfinetune_variant_none_weighting_none_unfreeze_yes_nonlinear_no_scratch_no\n",
      "keytolook multiplicative_embedding\n",
      "mtl_setting_allfinetune_variant_none_weighting_none_unfreeze_yes_nonlinear_no_scratch_no\n",
      "keytolook mtl\n",
      "concat_embedding_setting_allfinetune_variant_none_weighting_none_unfreeze_no_nonlinear_no_scratch_no\n",
      "keytolook concat_embedding\n",
      "additive_embedding_setting_allfinetune_variant_none_weighting_none_unfreeze_yes_nonlinear_no_scratch_no\n",
      "keytolook additive_embedding\n",
      "concat_embedding_setting_allfinetune_variant_none_weighting_none_unfreeze_yes_nonlinear_no_scratch_no\n",
      "keytolook concat_embedding\n",
      "mtl_setting_allfinetune_variant_none_weighting_none_unfreeze_no_nonlinear_no_scratch_no\n",
      "keytolook mtl\n",
      "additive_embedding_setting_allfinetune_variant_none_weighting_none_unfreeze_no_nonlinear_no_scratch_no\n",
      "keytolook additive_embedding\n",
      "multiplicative_embedding_setting_allfinetune_variant_none_weighting_none_unfreeze_no_nonlinear_no_scratch_no\n",
      "keytolook multiplicative_embedding\n"
     ]
    }
   ],
   "source": [
    "#all finetune\n",
    "write_csv_1 = dict()\n",
    "valid_cultivars = ['Zinfandel', 'Cabernet Franc', 'Concord', 'Malbec', 'Barbera', 'Semillon', 'Merlot', 'Lemberger', 'Chenin Blanc', 'Riesling', 'Nebbiolo', 'Cabernet Sauvignon', 'Chardonnay', 'Viognier', 'Gewurztraminer', 'Mourvedre', 'Pinot Gris', 'Grenache', 'Syrah', 'Sangiovese', 'Sauvignon Blanc']\n",
    "#experiment_list = ['concat_embedding_all', 'multiplicative_embedding_all','mtl_all','additive_embedding_all','single']\n",
    "experiment_list = glob.glob('./models/allfinetune/*.pkl')\n",
    "experiment_names = ['_'.join(x.split('/')[-1].split('.')[0].split('_')[:-1]) for x in experiment_list]\n",
    "# experiment_list = ['ferguson']\n",
    "# for experiment in experiment_list:\n",
    "#     experiment_file = experiment+'_losses.pkl'\n",
    "#     with open('./models/train_test_split/'+experiment_file,'rb') as f:\n",
    "#         data_dict = pickle.load(f)\n",
    "#     for key in data_dict.keys():\n",
    "#         avg = 0\n",
    "#         for trial in data_dict[key].keys():\n",
    "#             avg+= data_dict[key][trial][key][1]\n",
    "#         if key not in write_csv_1.keys():\n",
    "#             write_csv_1[key] = {exp:0 for exp in experiment_list}\n",
    "#         write_csv_1[key][experiment] = avg/3.0    \n",
    "        #print(\"Experiment\", experiment, \"Cultivar\", key, \"Loss\", avg/3)  \n",
    "for experiment_name, experiment in zip(experiment_names, experiment_list):\n",
    "    with open(experiment,'rb') as f:\n",
    "        data_dict = pickle.load(f)\n",
    "        print(experiment_name)\n",
    "        settingidx = experiment_name.split('_').index('setting')\n",
    "        keytolook = '_'.join(experiment_name.split('_')[:settingidx])\n",
    "        print(\"keytolook\",keytolook)\n",
    "        for cultivar in valid_cultivars:\n",
    "            avg = 0\n",
    "            for trial in data_dict[keytolook].keys():\n",
    "                avg+= data_dict[keytolook][trial][cultivar][1]\n",
    "            if cultivar not in write_csv_1.keys():\n",
    "                write_csv_1[cultivar] = {exp:0 for exp in experiment_names}\n",
    "            #print(\"Experiment\", \"mtl_all\", \"Cultivar\", cultivar, \"Loss\", avg/3)  \n",
    "            write_csv_1[cultivar][experiment_name] = avg/3.0     \n",
    "# experiment_list = ['concat_embedding_all', 'multiplicative_embedding_all','mtl_all','single']\n",
    "# experiment_list = ['ferguson']\n",
    "write_csv = dict()\n",
    "write_csv['Cultivar'] = list()\n",
    "write_csv.update({exp:list() for exp in experiment_names})\n",
    "for cultivar in write_csv_1.keys():\n",
    "    write_csv['Cultivar'].append(cultivar)\n",
    "    for exp in experiment_names:\n",
    "        write_csv[exp].append(write_csv_1[cultivar][exp])  \n",
    "pd.DataFrame(write_csv).to_csv('latest_allfinetune.csv', header=True, index=False)        "
   ]
  },
  {
   "cell_type": "code",
   "execution_count": 3,
   "id": "33237bb2",
   "metadata": {},
   "outputs": [
    {
     "name": "stdout",
     "output_type": "stream",
     "text": [
      "multiplicative_embedding_setting_all_variant_afterL3_weighting_none_unfreeze_no_nonlinear_yes_scratch_no\n",
      "keytolook multiplicative_embedding\n",
      "additive_embedding_setting_all_variant_afterL3_weighting_none_unfreeze_no_nonlinear_yes_scratch_no\n",
      "keytolook additive_embedding\n",
      "additive_embedding_setting_all_variant_afterL2_weighting_none_unfreeze_no_nonlinear_yes_scratch_no\n",
      "keytolook additive_embedding\n",
      "multiplicative_embedding_setting_all_variant_afterL4_weighting_none_unfreeze_no_nonlinear_yes_scratch_no\n",
      "keytolook multiplicative_embedding\n",
      "multiplicative_embedding_setting_all_variant_afterL2_weighting_none_unfreeze_no_nonlinear_yes_scratch_no\n",
      "keytolook multiplicative_embedding\n",
      "additive_embedding_setting_all_variant_afterL1_weighting_none_unfreeze_no_nonlinear_yes_scratch_no\n",
      "keytolook additive_embedding\n",
      "additive_embedding_setting_all_variant_afterL4_weighting_none_unfreeze_no_nonlinear_yes_scratch_no\n",
      "keytolook additive_embedding\n",
      "concat_embedding_setting_all_variant_afterL4_weighting_none_unfreeze_no_nonlinear_yes_scratch_no\n",
      "keytolook concat_embedding\n",
      "concat_embedding_setting_all_variant_afterL1_weighting_none_unfreeze_no_nonlinear_yes_scratch_no\n",
      "keytolook concat_embedding\n",
      "concat_embedding_setting_all_variant_afterL2_weighting_none_unfreeze_no_nonlinear_yes_scratch_no\n",
      "keytolook concat_embedding\n",
      "concat_embedding_setting_all_variant_afterL3_weighting_none_unfreeze_no_nonlinear_yes_scratch_no\n",
      "keytolook concat_embedding\n",
      "multiplicative_embedding_setting_all_variant_afterL1_weighting_none_unfreeze_no_nonlinear_yes_scratch_no\n",
      "keytolook multiplicative_embedding\n"
     ]
    }
   ],
   "source": [
    "#nonlinear\n",
    "write_csv_1 = dict()\n",
    "valid_cultivars = ['Zinfandel', 'Cabernet Franc', 'Concord', 'Malbec', 'Barbera', 'Semillon', 'Merlot', 'Lemberger', 'Chenin Blanc', 'Riesling', 'Nebbiolo', 'Cabernet Sauvignon', 'Chardonnay', 'Viognier', 'Gewurztraminer', 'Mourvedre', 'Pinot Gris', 'Grenache', 'Syrah', 'Sangiovese', 'Sauvignon Blanc']\n",
    "#experiment_list = ['concat_embedding_all', 'multiplicative_embedding_all','mtl_all','additive_embedding_all','single']\n",
    "experiment_list = glob.glob('./models/nonlinear/*.pkl')\n",
    "experiment_names = ['_'.join(x.split('/')[-1].split('.')[0].split('_')[:-1]) for x in experiment_list]\n",
    "# experiment_list = ['ferguson']\n",
    "# for experiment in experiment_list:\n",
    "#     experiment_file = experiment+'_losses.pkl'\n",
    "#     with open('./models/train_test_split/'+experiment_file,'rb') as f:\n",
    "#         data_dict = pickle.load(f)\n",
    "#     for key in data_dict.keys():\n",
    "#         avg = 0\n",
    "#         for trial in data_dict[key].keys():\n",
    "#             avg+= data_dict[key][trial][key][1]\n",
    "#         if key not in write_csv_1.keys():\n",
    "#             write_csv_1[key] = {exp:0 for exp in experiment_list}\n",
    "#         write_csv_1[key][experiment] = avg/3.0    \n",
    "        #print(\"Experiment\", experiment, \"Cultivar\", key, \"Loss\", avg/3)  \n",
    "for experiment_name, experiment in zip(experiment_names, experiment_list):\n",
    "    with open(experiment,'rb') as f:\n",
    "        data_dict = pickle.load(f)\n",
    "        print(experiment_name)\n",
    "        settingidx = experiment_name.split('_').index('setting')\n",
    "        keytolook = '_'.join(experiment_name.split('_')[:settingidx])\n",
    "        print(\"keytolook\",keytolook)\n",
    "        for cultivar in valid_cultivars:\n",
    "            avg = 0\n",
    "            for trial in data_dict[keytolook].keys():\n",
    "                avg+= data_dict[keytolook][trial][cultivar][1]\n",
    "            if cultivar not in write_csv_1.keys():\n",
    "                write_csv_1[cultivar] = {exp:0 for exp in experiment_names}\n",
    "            #print(\"Experiment\", \"mtl_all\", \"Cultivar\", cultivar, \"Loss\", avg/3)  \n",
    "            write_csv_1[cultivar][experiment_name] = avg/3.0     \n",
    "# experiment_list = ['concat_embedding_all', 'multiplicative_embedding_all','mtl_all','single']\n",
    "# experiment_list = ['ferguson']\n",
    "write_csv = dict()\n",
    "write_csv['Cultivar'] = list()\n",
    "write_csv.update({exp:list() for exp in experiment_names})\n",
    "for cultivar in write_csv_1.keys():\n",
    "    write_csv['Cultivar'].append(cultivar)\n",
    "    for exp in experiment_names:\n",
    "        write_csv[exp].append(write_csv_1[cultivar][exp])  \n",
    "pd.DataFrame(write_csv).to_csv('latest_nonlinear.csv', header=True, index=False)        "
   ]
  },
  {
   "cell_type": "code",
   "execution_count": 4,
   "id": "27f514be",
   "metadata": {},
   "outputs": [
    {
     "name": "stdout",
     "output_type": "stream",
     "text": [
      "mtl_setting_all_variant_none_weighting_none_unfreeze_no_nonlinear_no_scratch_no\n",
      "keytolook mtl\n"
     ]
    }
   ],
   "source": [
    "#cultivar subset high\n",
    "write_csv_1 = dict()\n",
    "valid_cultivars = ['Concord', 'Malbec', 'Merlot', 'Chenin Blanc', 'Riesling', 'Cabernet Sauvignon', 'Chardonnay', 'Viognier', 'Pinot Gris', 'Syrah']\n",
    "#experiment_list = ['concat_embedding_all', 'multiplicative_embedding_all','mtl_all','additive_embedding_all','single']\n",
    "experiment_list = glob.glob('./models/cultivar_subset_high/*.pkl')\n",
    "experiment_names = ['_'.join(x.split('/')[-1].split('.')[0].split('_')[:-1]) for x in experiment_list]\n",
    "# experiment_list = ['ferguson']\n",
    "# for experiment in experiment_list:\n",
    "#     experiment_file = experiment+'_losses.pkl'\n",
    "#     with open('./models/train_test_split/'+experiment_file,'rb') as f:\n",
    "#         data_dict = pickle.load(f)\n",
    "#     for key in data_dict.keys():\n",
    "#         avg = 0\n",
    "#         for trial in data_dict[key].keys():\n",
    "#             avg+= data_dict[key][trial][key][1]\n",
    "#         if key not in write_csv_1.keys():\n",
    "#             write_csv_1[key] = {exp:0 for exp in experiment_list}\n",
    "#         write_csv_1[key][experiment] = avg/3.0    \n",
    "        #print(\"Experiment\", experiment, \"Cultivar\", key, \"Loss\", avg/3)  \n",
    "for experiment_name, experiment in zip(experiment_names, experiment_list):\n",
    "    with open(experiment,'rb') as f:\n",
    "        data_dict = pickle.load(f)\n",
    "        print(experiment_name)\n",
    "        settingidx = experiment_name.split('_').index('setting')\n",
    "        keytolook = '_'.join(experiment_name.split('_')[:settingidx])\n",
    "        print(\"keytolook\",keytolook)\n",
    "        for cultivar in valid_cultivars:\n",
    "            avg = 0\n",
    "            for trial in data_dict[keytolook].keys():\n",
    "                avg+= data_dict[keytolook][trial][cultivar][1]\n",
    "            if cultivar not in write_csv_1.keys():\n",
    "                write_csv_1[cultivar] = {exp:0 for exp in experiment_names}\n",
    "            #print(\"Experiment\", \"mtl_all\", \"Cultivar\", cultivar, \"Loss\", avg/3)  \n",
    "            write_csv_1[cultivar][experiment_name] = avg/3.0     \n",
    "# experiment_list = ['concat_embedding_all', 'multiplicative_embedding_all','mtl_all','single']\n",
    "# experiment_list = ['ferguson']\n",
    "write_csv = dict()\n",
    "write_csv['Cultivar'] = list()\n",
    "write_csv.update({exp:list() for exp in experiment_names})\n",
    "for cultivar in write_csv_1.keys():\n",
    "    write_csv['Cultivar'].append(cultivar)\n",
    "    for exp in experiment_names:\n",
    "        write_csv[exp].append(write_csv_1[cultivar][exp])  \n",
    "pd.DataFrame(write_csv).to_csv('latest_cultivar_subset_high.csv', header=True, index=False)        "
   ]
  },
  {
   "cell_type": "code",
   "execution_count": null,
   "id": "e39e00a1",
   "metadata": {},
   "outputs": [],
   "source": [
    "data_dict['mtl']['trial_0'].keys()\n"
   ]
  },
  {
   "cell_type": "code",
   "execution_count": 5,
   "id": "d61e60a6",
   "metadata": {},
   "outputs": [
    {
     "name": "stdout",
     "output_type": "stream",
     "text": [
      "mtl_setting_all_variant_none_weighting_none_unfreeze_no_nonlinear_no_scratch_no\n",
      "keytolook mtl\n"
     ]
    }
   ],
   "source": [
    "#cultivar subset low\n",
    "write_csv_1 = dict()\n",
    "valid_cultivars = ['Zinfandel', 'Cabernet Franc', 'Barbera', 'Semillon', 'Lemberger', 'Nebbiolo', 'Gewurztraminer', 'Mourvedre', 'Grenache', 'Sauvignon Blanc']\n",
    "#experiment_list = ['concat_embedding_all', 'multiplicative_embedding_all','mtl_all','additive_embedding_all','single']\n",
    "experiment_list = glob.glob('./models/cultivar_subset_low/*.pkl')\n",
    "experiment_names = ['_'.join(x.split('/')[-1].split('.')[0].split('_')[:-1]) for x in experiment_list]\n",
    "# experiment_list = ['ferguson']\n",
    "# for experiment in experiment_list:\n",
    "#     experiment_file = experiment+'_losses.pkl'\n",
    "#     with open('./models/train_test_split/'+experiment_file,'rb') as f:\n",
    "#         data_dict = pickle.load(f)\n",
    "#     for key in data_dict.keys():\n",
    "#         avg = 0\n",
    "#         for trial in data_dict[key].keys():\n",
    "#             avg+= data_dict[key][trial][key][1]\n",
    "#         if key not in write_csv_1.keys():\n",
    "#             write_csv_1[key] = {exp:0 for exp in experiment_list}\n",
    "#         write_csv_1[key][experiment] = avg/3.0    \n",
    "        #print(\"Experiment\", experiment, \"Cultivar\", key, \"Loss\", avg/3)  \n",
    "for experiment_name, experiment in zip(experiment_names, experiment_list):\n",
    "    with open(experiment,'rb') as f:\n",
    "        data_dict = pickle.load(f)\n",
    "        print(experiment_name)\n",
    "        settingidx = experiment_name.split('_').index('setting')\n",
    "        keytolook = '_'.join(experiment_name.split('_')[:settingidx])\n",
    "        print(\"keytolook\",keytolook)\n",
    "        for cultivar in valid_cultivars:\n",
    "            avg = 0\n",
    "            for trial in data_dict[keytolook].keys():\n",
    "                avg+= data_dict[keytolook][trial][cultivar][1]\n",
    "            if cultivar not in write_csv_1.keys():\n",
    "                write_csv_1[cultivar] = {exp:0 for exp in experiment_names}\n",
    "            #print(\"Experiment\", \"mtl_all\", \"Cultivar\", cultivar, \"Loss\", avg/3)  \n",
    "            write_csv_1[cultivar][experiment_name] = avg/3.0     \n",
    "# experiment_list = ['concat_embedding_all', 'multiplicative_embedding_all','mtl_all','single']\n",
    "# experiment_list = ['ferguson']\n",
    "write_csv = dict()\n",
    "write_csv['Cultivar'] = list()\n",
    "write_csv.update({exp:list() for exp in experiment_names})\n",
    "for cultivar in write_csv_1.keys():\n",
    "    write_csv['Cultivar'].append(cultivar)\n",
    "    for exp in experiment_names:\n",
    "        write_csv[exp].append(write_csv_1[cultivar][exp])  \n",
    "pd.DataFrame(write_csv).to_csv('latest_cultivar_subset_low.csv', header=True, index=False)        "
   ]
  },
  {
   "cell_type": "code",
   "execution_count": 6,
   "id": "feb8d8cf",
   "metadata": {},
   "outputs": [
    {
     "name": "stdout",
     "output_type": "stream",
     "text": [
      "mtl_setting_all_variant_none_weighting_none_unfreeze_no_nonlinear_no_scratch_no\n",
      "keytolook mtl\n"
     ]
    }
   ],
   "source": [
    "#cultivar subset mix\n",
    "write_csv_1 = dict()\n",
    "valid_cultivars = ['Cabernet Franc', 'Concord', 'Merlot', 'Lemberger', 'Riesling', 'Cabernet Sauvignon', 'Chardonnay', 'Gewurztraminer', 'Mourvedre', 'Sauvignon Blanc']\n",
    "#experiment_list = ['concat_embedding_all', 'multiplicative_embedding_all','mtl_all','additive_embedding_all','single']\n",
    "experiment_list = glob.glob('./models/cultivar_subset_mix/*.pkl')\n",
    "experiment_names = ['_'.join(x.split('/')[-1].split('.')[0].split('_')[:-1]) for x in experiment_list]\n",
    "# experiment_list = ['ferguson']\n",
    "# for experiment in experiment_list:\n",
    "#     experiment_file = experiment+'_losses.pkl'\n",
    "#     with open('./models/train_test_split/'+experiment_file,'rb') as f:\n",
    "#         data_dict = pickle.load(f)\n",
    "#     for key in data_dict.keys():\n",
    "#         avg = 0\n",
    "#         for trial in data_dict[key].keys():\n",
    "#             avg+= data_dict[key][trial][key][1]\n",
    "#         if key not in write_csv_1.keys():\n",
    "#             write_csv_1[key] = {exp:0 for exp in experiment_list}\n",
    "#         write_csv_1[key][experiment] = avg/3.0    \n",
    "        #print(\"Experiment\", experiment, \"Cultivar\", key, \"Loss\", avg/3)  \n",
    "for experiment_name, experiment in zip(experiment_names, experiment_list):\n",
    "    with open(experiment,'rb') as f:\n",
    "        data_dict = pickle.load(f)\n",
    "        print(experiment_name)\n",
    "        settingidx = experiment_name.split('_').index('setting')\n",
    "        keytolook = '_'.join(experiment_name.split('_')[:settingidx])\n",
    "        print(\"keytolook\",keytolook)\n",
    "        for cultivar in valid_cultivars:\n",
    "            avg = 0\n",
    "            for trial in data_dict[keytolook].keys():\n",
    "                avg+= data_dict[keytolook][trial][cultivar][1]\n",
    "            if cultivar not in write_csv_1.keys():\n",
    "                write_csv_1[cultivar] = {exp:0 for exp in experiment_names}\n",
    "            #print(\"Experiment\", \"mtl_all\", \"Cultivar\", cultivar, \"Loss\", avg/3)  \n",
    "            write_csv_1[cultivar][experiment_name] = avg/3.0     \n",
    "# experiment_list = ['concat_embedding_all', 'multiplicative_embedding_all','mtl_all','single']\n",
    "# experiment_list = ['ferguson']\n",
    "write_csv = dict()\n",
    "write_csv['Cultivar'] = list()\n",
    "write_csv.update({exp:list() for exp in experiment_names})\n",
    "for cultivar in write_csv_1.keys():\n",
    "    write_csv['Cultivar'].append(cultivar)\n",
    "    for exp in experiment_names:\n",
    "        write_csv[exp].append(write_csv_1[cultivar][exp])  \n",
    "pd.DataFrame(write_csv).to_csv('latest_cultivar_subset_mix.csv', header=True, index=False)        "
   ]
  },
  {
   "cell_type": "code",
   "execution_count": 5,
   "id": "2916d440",
   "metadata": {},
   "outputs": [
    {
     "name": "stdout",
     "output_type": "stream",
     "text": [
      "mtl_setting_all_variant_none_weighting_none_unfreeze_no_nonlinear_no_scratch_no\n",
      "keytolook mtl\n"
     ]
    }
   ],
   "source": [
    "#cultivar subset mix\n",
    "write_csv_1 = dict()\n",
    "valid_cultivars = ['Cabernet Franc', 'Concord', 'Merlot', 'Lemberger', 'Riesling', 'Cabernet Sauvignon', 'Chardonnay', 'Gewurztraminer', 'Mourvedre', 'Sauvignon Blanc']\n",
    "#experiment_list = ['concat_embedding_all', 'multiplicative_embedding_all','mtl_all','additive_embedding_all','single']\n",
    "experiment_list = glob.glob('./models/no_seasons_2/*.pkl')\n",
    "experiment_names = ['_'.join(x.split('/')[-1].split('.')[0].split('_')[:-1]) for x in experiment_list]\n",
    "# experiment_list = ['ferguson']\n",
    "# for experiment in experiment_list:\n",
    "#     experiment_file = experiment+'_losses.pkl'\n",
    "#     with open('./models/train_test_split/'+experiment_file,'rb') as f:\n",
    "#         data_dict = pickle.load(f)\n",
    "#     for key in data_dict.keys():\n",
    "#         avg = 0\n",
    "#         for trial in data_dict[key].keys():\n",
    "#             avg+= data_dict[key][trial][key][1]\n",
    "#         if key not in write_csv_1.keys():\n",
    "#             write_csv_1[key] = {exp:0 for exp in experiment_list}\n",
    "#         write_csv_1[key][experiment] = avg/3.0    \n",
    "        #print(\"Experiment\", experiment, \"Cultivar\", key, \"Loss\", avg/3)  \n",
    "for experiment_name, experiment in zip(experiment_names, experiment_list):\n",
    "    with open(experiment,'rb') as f:\n",
    "        data_dict = pickle.load(f)\n",
    "        print(experiment_name)\n",
    "        settingidx = experiment_name.split('_').index('setting')\n",
    "        keytolook = '_'.join(experiment_name.split('_')[:settingidx])\n",
    "        print(\"keytolook\",keytolook)\n",
    "        for cultivar in valid_cultivars:\n",
    "            avg = 0\n",
    "            for trial in data_dict[keytolook].keys():\n",
    "                avg+= data_dict[keytolook][trial][cultivar][1]\n",
    "            if cultivar not in write_csv_1.keys():\n",
    "                write_csv_1[cultivar] = {exp:0 for exp in experiment_names}\n",
    "            #print(\"Experiment\", \"mtl_all\", \"Cultivar\", cultivar, \"Loss\", avg/3)  \n",
    "            write_csv_1[cultivar][experiment_name] = avg/3.0     \n",
    "# experiment_list = ['concat_embedding_all', 'multiplicative_embedding_all','mtl_all','single']\n",
    "# experiment_list = ['ferguson']\n",
    "write_csv = dict()\n",
    "write_csv['Cultivar'] = list()\n",
    "write_csv.update({exp:list() for exp in experiment_names})\n",
    "for cultivar in write_csv_1.keys():\n",
    "    write_csv['Cultivar'].append(cultivar)\n",
    "    for exp in experiment_names:\n",
    "        write_csv[exp].append(write_csv_1[cultivar][exp])  \n",
    "pd.DataFrame(write_csv).to_csv('latest_no_seasons_2.csv', header=True, index=False)        "
   ]
  },
  {
   "cell_type": "code",
   "execution_count": 6,
   "id": "f7f60c59",
   "metadata": {},
   "outputs": [
    {
     "data": {
      "text/plain": [
       "['./models/no_seasons_2/mtl_setting_all_variant_none_weighting_none_unfreeze_no_nonlinear_no_scratch_no_losses.pkl']"
      ]
     },
     "execution_count": 6,
     "metadata": {},
     "output_type": "execute_result"
    }
   ],
   "source": [
    "experiment_list"
   ]
  },
  {
   "cell_type": "code",
   "execution_count": 7,
   "id": "bd85c66c",
   "metadata": {},
   "outputs": [
    {
     "name": "stdout",
     "output_type": "stream",
     "text": [
      "mtl_setting_all_variant_none_weighting_none_unfreeze_no_nonlinear_no_scratch_no\n",
      "keytolook mtl\n"
     ]
    }
   ],
   "source": [
    "#cultivar subset mix\n",
    "write_csv_1 = dict()\n",
    "valid_cultivars = ['Cabernet Franc', 'Concord', 'Merlot', 'Lemberger', 'Riesling', 'Cabernet Sauvignon', 'Chardonnay', 'Gewurztraminer', 'Mourvedre', 'Sauvignon Blanc']\n",
    "#experiment_list = ['concat_embedding_all', 'multiplicative_embedding_all','mtl_all','additive_embedding_all','single']\n",
    "experiment_list = glob.glob('./models/no_seasons_5/*.pkl')\n",
    "experiment_names = ['_'.join(x.split('/')[-1].split('.')[0].split('_')[:-1]) for x in experiment_list]\n",
    "# experiment_list = ['ferguson']\n",
    "# for experiment in experiment_list:\n",
    "#     experiment_file = experiment+'_losses.pkl'\n",
    "#     with open('./models/train_test_split/'+experiment_file,'rb') as f:\n",
    "#         data_dict = pickle.load(f)\n",
    "#     for key in data_dict.keys():\n",
    "#         avg = 0\n",
    "#         for trial in data_dict[key].keys():\n",
    "#             avg+= data_dict[key][trial][key][1]\n",
    "#         if key not in write_csv_1.keys():\n",
    "#             write_csv_1[key] = {exp:0 for exp in experiment_list}\n",
    "#         write_csv_1[key][experiment] = avg/3.0    \n",
    "        #print(\"Experiment\", experiment, \"Cultivar\", key, \"Loss\", avg/3)  \n",
    "for experiment_name, experiment in zip(experiment_names, experiment_list):\n",
    "    with open(experiment,'rb') as f:\n",
    "        data_dict = pickle.load(f)\n",
    "        print(experiment_name)\n",
    "        settingidx = experiment_name.split('_').index('setting')\n",
    "        keytolook = '_'.join(experiment_name.split('_')[:settingidx])\n",
    "        print(\"keytolook\",keytolook)\n",
    "        for cultivar in valid_cultivars:\n",
    "            avg = 0\n",
    "            for trial in data_dict[keytolook].keys():\n",
    "                avg+= data_dict[keytolook][trial][cultivar][1]\n",
    "            if cultivar not in write_csv_1.keys():\n",
    "                write_csv_1[cultivar] = {exp:0 for exp in experiment_names}\n",
    "            #print(\"Experiment\", \"mtl_all\", \"Cultivar\", cultivar, \"Loss\", avg/3)  \n",
    "            write_csv_1[cultivar][experiment_name] = avg/3.0     \n",
    "# experiment_list = ['concat_embedding_all', 'multiplicative_embedding_all','mtl_all','single']\n",
    "# experiment_list = ['ferguson']\n",
    "write_csv = dict()\n",
    "write_csv['Cultivar'] = list()\n",
    "write_csv.update({exp:list() for exp in experiment_names})\n",
    "for cultivar in write_csv_1.keys():\n",
    "    write_csv['Cultivar'].append(cultivar)\n",
    "    for exp in experiment_names:\n",
    "        write_csv[exp].append(write_csv_1[cultivar][exp])  \n",
    "pd.DataFrame(write_csv).to_csv('latest_no_seasons_5.csv', header=True, index=False)        "
   ]
  },
  {
   "cell_type": "code",
   "execution_count": 8,
   "id": "1820ce4c",
   "metadata": {},
   "outputs": [
    {
     "name": "stdout",
     "output_type": "stream",
     "text": [
      "mtl_setting_all_variant_none_weighting_none_unfreeze_no_nonlinear_no_scratch_no\n",
      "keytolook mtl\n"
     ]
    }
   ],
   "source": [
    "#cultivar subset mix\n",
    "write_csv_1 = dict()\n",
    "valid_cultivars = ['Cabernet Franc', 'Concord', 'Merlot', 'Lemberger', 'Riesling', 'Cabernet Sauvignon', 'Chardonnay', 'Gewurztraminer', 'Mourvedre', 'Sauvignon Blanc']\n",
    "#experiment_list = ['concat_embedding_all', 'multiplicative_embedding_all','mtl_all','additive_embedding_all','single']\n",
    "experiment_list = glob.glob('./models/no_seasons_10/*.pkl')\n",
    "experiment_names = ['_'.join(x.split('/')[-1].split('.')[0].split('_')[:-1]) for x in experiment_list]\n",
    "# experiment_list = ['ferguson']\n",
    "# for experiment in experiment_list:\n",
    "#     experiment_file = experiment+'_losses.pkl'\n",
    "#     with open('./models/train_test_split/'+experiment_file,'rb') as f:\n",
    "#         data_dict = pickle.load(f)\n",
    "#     for key in data_dict.keys():\n",
    "#         avg = 0\n",
    "#         for trial in data_dict[key].keys():\n",
    "#             avg+= data_dict[key][trial][key][1]\n",
    "#         if key not in write_csv_1.keys():\n",
    "#             write_csv_1[key] = {exp:0 for exp in experiment_list}\n",
    "#         write_csv_1[key][experiment] = avg/3.0    \n",
    "        #print(\"Experiment\", experiment, \"Cultivar\", key, \"Loss\", avg/3)  \n",
    "for experiment_name, experiment in zip(experiment_names, experiment_list):\n",
    "    with open(experiment,'rb') as f:\n",
    "        data_dict = pickle.load(f)\n",
    "        print(experiment_name)\n",
    "        settingidx = experiment_name.split('_').index('setting')\n",
    "        keytolook = '_'.join(experiment_name.split('_')[:settingidx])\n",
    "        print(\"keytolook\",keytolook)\n",
    "        for cultivar in valid_cultivars:\n",
    "            avg = 0\n",
    "            for trial in data_dict[keytolook].keys():\n",
    "                avg+= data_dict[keytolook][trial][cultivar][1]\n",
    "            if cultivar not in write_csv_1.keys():\n",
    "                write_csv_1[cultivar] = {exp:0 for exp in experiment_names}\n",
    "            #print(\"Experiment\", \"mtl_all\", \"Cultivar\", cultivar, \"Loss\", avg/3)  \n",
    "            write_csv_1[cultivar][experiment_name] = avg/3.0     \n",
    "# experiment_list = ['concat_embedding_all', 'multiplicative_embedding_all','mtl_all','single']\n",
    "# experiment_list = ['ferguson']\n",
    "write_csv = dict()\n",
    "write_csv['Cultivar'] = list()\n",
    "write_csv.update({exp:list() for exp in experiment_names})\n",
    "for cultivar in write_csv_1.keys():\n",
    "    write_csv['Cultivar'].append(cultivar)\n",
    "    for exp in experiment_names:\n",
    "        write_csv[exp].append(write_csv_1[cultivar][exp])  \n",
    "pd.DataFrame(write_csv).to_csv('latest_no_seasons_10.csv', header=True, index=False)        "
   ]
  },
  {
   "cell_type": "code",
   "execution_count": 9,
   "id": "72d005d1",
   "metadata": {},
   "outputs": [
    {
     "name": "stdout",
     "output_type": "stream",
     "text": [
      "mtl_setting_all_variant_none_weighting_none_unfreeze_no_nonlinear_no_scratch_no\n",
      "keytolook mtl\n"
     ]
    }
   ],
   "source": [
    "#cultivar subset mix\n",
    "write_csv_1 = dict()\n",
    "valid_cultivars = ['Cabernet Franc', 'Concord', 'Merlot', 'Lemberger', 'Riesling', 'Cabernet Sauvignon', 'Chardonnay', 'Gewurztraminer', 'Mourvedre', 'Sauvignon Blanc']\n",
    "#experiment_list = ['concat_embedding_all', 'multiplicative_embedding_all','mtl_all','additive_embedding_all','single']\n",
    "experiment_list = glob.glob('./models/no_seasons_20/*.pkl')\n",
    "experiment_names = ['_'.join(x.split('/')[-1].split('.')[0].split('_')[:-1]) for x in experiment_list]\n",
    "# experiment_list = ['ferguson']\n",
    "# for experiment in experiment_list:\n",
    "#     experiment_file = experiment+'_losses.pkl'\n",
    "#     with open('./models/train_test_split/'+experiment_file,'rb') as f:\n",
    "#         data_dict = pickle.load(f)\n",
    "#     for key in data_dict.keys():\n",
    "#         avg = 0\n",
    "#         for trial in data_dict[key].keys():\n",
    "#             avg+= data_dict[key][trial][key][1]\n",
    "#         if key not in write_csv_1.keys():\n",
    "#             write_csv_1[key] = {exp:0 for exp in experiment_list}\n",
    "#         write_csv_1[key][experiment] = avg/3.0    \n",
    "        #print(\"Experiment\", experiment, \"Cultivar\", key, \"Loss\", avg/3)  \n",
    "for experiment_name, experiment in zip(experiment_names, experiment_list):\n",
    "    with open(experiment,'rb') as f:\n",
    "        data_dict = pickle.load(f)\n",
    "        print(experiment_name)\n",
    "        settingidx = experiment_name.split('_').index('setting')\n",
    "        keytolook = '_'.join(experiment_name.split('_')[:settingidx])\n",
    "        print(\"keytolook\",keytolook)\n",
    "        for cultivar in valid_cultivars:\n",
    "            avg = 0\n",
    "            for trial in data_dict[keytolook].keys():\n",
    "                avg+= data_dict[keytolook][trial][cultivar][1]\n",
    "            if cultivar not in write_csv_1.keys():\n",
    "                write_csv_1[cultivar] = {exp:0 for exp in experiment_names}\n",
    "            #print(\"Experiment\", \"mtl_all\", \"Cultivar\", cultivar, \"Loss\", avg/3)  \n",
    "            write_csv_1[cultivar][experiment_name] = avg/3.0     \n",
    "# experiment_list = ['concat_embedding_all', 'multiplicative_embedding_all','mtl_all','single']\n",
    "# experiment_list = ['ferguson']\n",
    "write_csv = dict()\n",
    "write_csv['Cultivar'] = list()\n",
    "write_csv.update({exp:list() for exp in experiment_names})\n",
    "for cultivar in write_csv_1.keys():\n",
    "    write_csv['Cultivar'].append(cultivar)\n",
    "    for exp in experiment_names:\n",
    "        write_csv[exp].append(write_csv_1[cultivar][exp])  \n",
    "pd.DataFrame(write_csv).to_csv('latest_no_seasons_20.csv', header=True, index=False)        "
   ]
  },
  {
   "cell_type": "code",
   "execution_count": 13,
   "id": "f6d3b20f",
   "metadata": {},
   "outputs": [
    {
     "data": {
      "text/plain": [
       "22"
      ]
     },
     "execution_count": 13,
     "metadata": {},
     "output_type": "execute_result"
    }
   ],
   "source": [
    "len(list(data_dict['mtl']['trial_0'].keys()))\n"
   ]
  },
  {
   "cell_type": "code",
   "execution_count": 9,
   "id": "ce537905",
   "metadata": {},
   "outputs": [
    {
     "name": "stdout",
     "output_type": "stream",
     "text": [
      "mtl_setting_all_variant_none_weighting_none_unfreeze_no_nonlinear_no_scratch_no\n",
      "keytolook mtl\n"
     ]
    }
   ],
   "source": [
    "#cultivar subset mix\n",
    "write_csv_1 = dict()\n",
    "valid_cultivars = ['Cabernet Franc', 'Concord', 'Merlot', 'Lemberger', 'Riesling', 'Cabernet Sauvignon', 'Chardonnay', 'Gewurztraminer', 'Mourvedre', 'Sauvignon Blanc']\n",
    "#experiment_list = ['concat_embedding_all', 'multiplicative_embedding_all','mtl_all','additive_embedding_all','single']\n",
    "experiment_list = glob.glob('./models/no_seasons_20_CS/*.pkl')\n",
    "experiment_names = ['_'.join(x.split('/')[-1].split('.')[0].split('_')[:-1]) for x in experiment_list]\n",
    "# experiment_list = ['ferguson']\n",
    "# for experiment in experiment_list:\n",
    "#     experiment_file = experiment+'_losses.pkl'\n",
    "#     with open('./models/train_test_split/'+experiment_file,'rb') as f:\n",
    "#         data_dict = pickle.load(f)\n",
    "#     for key in data_dict.keys():\n",
    "#         avg = 0\n",
    "#         for trial in data_dict[key].keys():\n",
    "#             avg+= data_dict[key][trial][key][1]\n",
    "#         if key not in write_csv_1.keys():\n",
    "#             write_csv_1[key] = {exp:0 for exp in experiment_list}\n",
    "#         write_csv_1[key][experiment] = avg/3.0    \n",
    "        #print(\"Experiment\", experiment, \"Cultivar\", key, \"Loss\", avg/3)  \n",
    "for experiment_name, experiment in zip(experiment_names, experiment_list):\n",
    "    with open(experiment,'rb') as f:\n",
    "        data_dict = pickle.load(f)\n",
    "        print(experiment_name)\n",
    "        settingidx = experiment_name.split('_').index('setting')\n",
    "        keytolook = '_'.join(experiment_name.split('_')[:settingidx])\n",
    "        print(\"keytolook\",keytolook)\n",
    "        for cultivar in valid_cultivars:\n",
    "            avg = 0\n",
    "            for trial in data_dict[keytolook].keys():\n",
    "                avg+= data_dict[keytolook][trial][cultivar][1]\n",
    "            if cultivar not in write_csv_1.keys():\n",
    "                write_csv_1[cultivar] = {exp:0 for exp in experiment_names}\n",
    "            #print(\"Experiment\", \"mtl_all\", \"Cultivar\", cultivar, \"Loss\", avg/3)  \n",
    "            write_csv_1[cultivar][experiment_name] = avg/3.0     \n",
    "# experiment_list = ['concat_embedding_all', 'multiplicative_embedding_all','mtl_all','single']\n",
    "# experiment_list = ['ferguson']\n",
    "write_csv = dict()\n",
    "write_csv['Cultivar'] = list()\n",
    "write_csv.update({exp:list() for exp in experiment_names})\n",
    "for cultivar in write_csv_1.keys():\n",
    "    write_csv['Cultivar'].append(cultivar)\n",
    "    for exp in experiment_names:\n",
    "        write_csv[exp].append(write_csv_1[cultivar][exp])  \n",
    "pd.DataFrame(write_csv).to_csv('latest_no_seasons_20_CS.csv', header=True, index=False)     "
   ]
  },
  {
   "cell_type": "code",
   "execution_count": 6,
   "id": "49adee1a",
   "metadata": {},
   "outputs": [
    {
     "name": "stdout",
     "output_type": "stream",
     "text": [
      "multiplicative_embedding_setting_leaveoneout_variant_none_weighting_none_unfreeze_yes_nonlinear_no_scratch_no\n",
      "keytolook multiplicative_embedding\n",
      "mtl_setting_leaveoneout_variant_none_weighting_none_unfreeze_yes_nonlinear_no_scratch_no\n",
      "keytolook mtl\n",
      "concat_embedding_setting_leaveoneout_variant_none_weighting_none_unfreeze_yes_nonlinear_no_scratch_no\n",
      "keytolook concat_embedding\n",
      "additive_embedding_setting_leaveoneout_variant_none_weighting_none_unfreeze_yes_nonlinear_no_scratch_no\n",
      "keytolook additive_embedding\n"
     ]
    }
   ],
   "source": [
    "#all finetune\n",
    "write_csv_1 = dict()\n",
    "valid_cultivars = ['Zinfandel', 'Cabernet Franc', 'Concord', 'Malbec', 'Barbera', 'Semillon', 'Merlot', 'Lemberger', 'Chenin Blanc', 'Riesling', 'Nebbiolo', 'Cabernet Sauvignon', 'Chardonnay', 'Viognier', 'Gewurztraminer', 'Mourvedre', 'Pinot Gris', 'Grenache', 'Syrah', 'Sangiovese', 'Sauvignon Blanc']\n",
    "#experiment_list = ['concat_embedding_all', 'multiplicative_embedding_all','mtl_all','additive_embedding_all','single']\n",
    "experiment_list = glob.glob('./models/leaveoneout_unfreeze/*.pkl')\n",
    "experiment_names = ['_'.join(x.split('/')[-1].split('.')[0].split('_')[:-1]) for x in experiment_list]\n",
    "# experiment_list = ['ferguson']\n",
    "# for experiment in experiment_list:\n",
    "#     experiment_file = experiment+'_losses.pkl'\n",
    "#     with open('./models/train_test_split/'+experiment_file,'rb') as f:\n",
    "#         data_dict = pickle.load(f)\n",
    "#     for key in data_dict.keys():\n",
    "#         avg = 0\n",
    "#         for trial in data_dict[key].keys():\n",
    "#             avg+= data_dict[key][trial][key][1]\n",
    "#         if key not in write_csv_1.keys():\n",
    "#             write_csv_1[key] = {exp:0 for exp in experiment_list}\n",
    "#         write_csv_1[key][experiment] = avg/3.0    \n",
    "        #print(\"Experiment\", experiment, \"Cultivar\", key, \"Loss\", avg/3)  \n",
    "for experiment_name, experiment in zip(experiment_names, experiment_list):\n",
    "    with open(experiment,'rb') as f:\n",
    "        data_dict = pickle.load(f)\n",
    "        print(experiment_name)\n",
    "        settingidx = experiment_name.split('_').index('setting')\n",
    "        keytolook = '_'.join(experiment_name.split('_')[:settingidx])\n",
    "        print(\"keytolook\",keytolook)\n",
    "        for cultivar in valid_cultivars:\n",
    "            avg = 0\n",
    "            for trial in data_dict[cultivar].keys():\n",
    "                avg+= data_dict[cultivar][trial][cultivar][1]\n",
    "            if cultivar not in write_csv_1.keys():\n",
    "                write_csv_1[cultivar] = {exp:0 for exp in experiment_names}\n",
    "            #print(\"Experiment\", \"mtl_all\", \"Cultivar\", cultivar, \"Loss\", avg/3)  \n",
    "            write_csv_1[cultivar][experiment_name] = avg/3.0     \n",
    "# experiment_list = ['concat_embedding_all', 'multiplicative_embedding_all','mtl_all','single']\n",
    "# experiment_list = ['ferguson']\n",
    "write_csv = dict()\n",
    "write_csv['Cultivar'] = list()\n",
    "write_csv.update({exp:list() for exp in experiment_names})\n",
    "for cultivar in write_csv_1.keys():\n",
    "    write_csv['Cultivar'].append(cultivar)\n",
    "    for exp in experiment_names:\n",
    "        write_csv[exp].append(write_csv_1[cultivar][exp])  \n",
    "pd.DataFrame(write_csv).to_csv('latest_leaveoneout_unfreeze.csv', header=True, index=False) "
   ]
  },
  {
   "cell_type": "code",
   "execution_count": 5,
   "id": "91fa1809",
   "metadata": {},
   "outputs": [
    {
     "data": {
      "text/plain": [
       "{'trial_0': {'Gewurztraminer': [2.2994200431391474,\n",
       "   2.219063857539731,\n",
       "   2.144239395376897],\n",
       "  'Chenin Blanc': [2.410415610728339, 1.513284508145773, 1.8081704091219035],\n",
       "  'Riesling': [2.0156866256401127, 1.3522623708691222, 2.3652931413980958],\n",
       "  'Barbera': [4.095311922483028, 4.5459398704140295, 5.041618704239299],\n",
       "  'Chardonnay': [2.3056668544495484, 1.9266788642435593, 1.867382470330282],\n",
       "  'Merlot': [1.76286234817125, 1.6583842795260397, 1.4849354539195059],\n",
       "  'Sangiovese': [1.6442069053205142, 1.9423030263433607, 1.9758240296546878],\n",
       "  'Lemberger': [2.1573517790234886, 2.3673897332652944, 2.7230717302303544],\n",
       "  'Cabernet Franc': [2.1037717643786076, 1.841342000119592, 1.883749574333401],\n",
       "  'Viognier': [2.313372473188663, 1.7759784526892504, 1.7946553992380154],\n",
       "  'Grenache': [2.085824227561486, 2.162617445386005, 2.136635173718262],\n",
       "  'Cabernet Sauvignon': [2.225358068393097,\n",
       "   1.2924682017091171,\n",
       "   1.2643043786473098],\n",
       "  'Mourvedre': [2.873879421616828, 2.426799566573643, 2.269744600388967],\n",
       "  'Syrah': [1.7554441646387346, 1.4562829271777027, 1.3487724657282416],\n",
       "  'Pinot Gris': [1.2539104330878434, 1.1251281029563407, 1.3209991024138457],\n",
       "  'Semillon': [2.4796809349622158, 2.4971779153769047, 2.8513059735855926],\n",
       "  'Malbec': [1.4120073927991086, 1.1664246523836914, 1.1684893210285874],\n",
       "  'Sauvignon Blanc': [1.100582796378337,\n",
       "   1.150323784899004,\n",
       "   1.4438616919972167],\n",
       "  'Concord': [3.5416518416748928, 1.871191161612439, 3.0254899187829443],\n",
       "  'Nebbiolo': [4.146560272945272, 4.372268041758132, 4.159717002926232],\n",
       "  'overall': [5.199325503106712, 5.013030049369235, 5.047074919245653],\n",
       "  'Zinfandel': [5.199325503106712, 5.013030049369235, 5.047074919245653]},\n",
       " 'trial_1': {'Gewurztraminer': [2.9404386066059516,\n",
       "   1.68924728639031,\n",
       "   1.5096614747438597],\n",
       "  'Chenin Blanc': [2.0815082057669265, 1.633030416010329, 1.4344445803850936],\n",
       "  'Riesling': [2.5162980973961964, 2.7705196021349874, 2.7944769781791883],\n",
       "  'Barbera': [1.8593218499288726, 1.7047141823922543, 1.5513207100268713],\n",
       "  'Chardonnay': [1.154642689084453, 0.9166373154247116, 1.1777213682655274],\n",
       "  'Merlot': [1.323731729527249, 1.3504775438923882, 1.4313774751757238],\n",
       "  'Sangiovese': [2.281153533150055, 2.379895936149443, 2.4200138939702964],\n",
       "  'Lemberger': [2.8833968234559935, 2.428344453495129, 2.33615458318617],\n",
       "  'Cabernet Franc': [1.8930382577664489,\n",
       "   2.1822316625049485,\n",
       "   2.3598895995939575],\n",
       "  'Viognier': [5.007339240934622, 5.391432372735946, 5.524233057982461],\n",
       "  'Grenache': [1.6095787585999353, 1.3640573036121086, 1.1737084351513984],\n",
       "  'Cabernet Sauvignon': [3.785306283912162,\n",
       "   4.029876948293061,\n",
       "   4.130253076812076],\n",
       "  'Mourvedre': [2.1457542725846848, 2.0048597420890117, 1.703001035325995],\n",
       "  'Syrah': [1.4966144502249303, 1.4082531543156631, 1.4138380262390002],\n",
       "  'Pinot Gris': [2.1399179669281447, 1.6176403351506323, 1.529445830943165],\n",
       "  'Semillon': [2.1039254330377783, 1.370185747015069, 1.0439418296648812],\n",
       "  'Malbec': [1.7658305765838251, 1.5800579810066766, 1.378508383433821],\n",
       "  'Sauvignon Blanc': [1.6878634873733291,\n",
       "   1.4048786682466592,\n",
       "   1.3490956898084379],\n",
       "  'Concord': [1.8525057936975482, 1.7094980394341561, 1.6247372781678389],\n",
       "  'Nebbiolo': [2.115143299343525, 2.073640042195648, 2.200430229774613],\n",
       "  'overall': [2.885840503031231, 2.3095192127341218, 2.2493839480176265],\n",
       "  'Zinfandel': [2.885840503031231, 2.3095192127341218, 2.2493839480176265]},\n",
       " 'trial_2': {'Gewurztraminer': [1.934245051886097,\n",
       "   1.5741351462756412,\n",
       "   1.4913290060751054],\n",
       "  'Chenin Blanc': [1.9924455064240367, 1.8122046657537978, 1.81438256199411],\n",
       "  'Riesling': [2.5691562823212455, 2.38377596028379, 2.4433371270719726],\n",
       "  'Barbera': [2.7718055759410456, 2.0998748469524964, 1.8003049539157265],\n",
       "  'Chardonnay': [2.4969813241867476, 2.063654143188479, 1.9460705119077506],\n",
       "  'Merlot': [1.6675818394333413, 1.5765342626698826, 1.4278186193991709],\n",
       "  'Sangiovese': [2.0203131042149134, 1.6089510312923765, 1.548366251671873],\n",
       "  'Lemberger': [1.5094671312097645, 1.3724892407744278, 1.4094423299130434],\n",
       "  'Cabernet Franc': [2.2990536899146368,\n",
       "   2.1868145549975697,\n",
       "   2.1267988781305998],\n",
       "  'Viognier': [2.9865902972107765, 2.3625652647338558, 2.209233142663716],\n",
       "  'Grenache': [1.8161272388407432, 1.9289849736096611, 2.133658216990803],\n",
       "  'Cabernet Sauvignon': [1.5554861959631494,\n",
       "   1.5861462234927821,\n",
       "   1.5460649160941535],\n",
       "  'Mourvedre': [1.8365551498029735, 1.6553818208662963, 1.6096905889612922],\n",
       "  'Syrah': [2.6059375895875165, 2.625102994805614, 2.5968258555842665],\n",
       "  'Pinot Gris': [2.6852701384404787, 2.3111992347964256, 2.176030964792346],\n",
       "  'Semillon': [1.8543322485665104, 1.8672593873043772, 1.7224428905437452],\n",
       "  'Malbec': [2.1964212787431787, 1.993932520724194, 1.7210760848999815],\n",
       "  'Sauvignon Blanc': [2.2917400232769753,\n",
       "   1.8840230635265978,\n",
       "   1.816870254809597],\n",
       "  'Concord': [2.2488151185476424, 2.307196437917068, 2.399155201842022],\n",
       "  'Nebbiolo': [1.811389188084783, 1.5542614990564942, 1.4473510387508515],\n",
       "  'overall': [2.180638697092735, 2.033187177230923, 2.017604240551273],\n",
       "  'Zinfandel': [2.180638697092735, 2.033187177230923, 2.017604240551273]}}"
      ]
     },
     "execution_count": 5,
     "metadata": {},
     "output_type": "execute_result"
    }
   ],
   "source": [
    "data_dict['Zinfandel']"
   ]
  },
  {
   "cell_type": "code",
   "execution_count": 7,
   "id": "e16589ab",
   "metadata": {},
   "outputs": [
    {
     "name": "stdout",
     "output_type": "stream",
     "text": [
      "single_setting_all_variant_none_weighting_none_unfreeze_no_nonlinear_no_scratch_no\n",
      "keytolook single\n"
     ]
    }
   ],
   "source": [
    "#all finetune\n",
    "write_csv_1 = dict()\n",
    "#valid_cultivars = ['Zinfandel', 'Cabernet Franc', 'Concord', 'Malbec', 'Barbera', 'Semillon', 'Merlot', 'Lemberger', 'Chenin Blanc', 'Riesling', 'Nebbiolo', 'Cabernet Sauvignon', 'Chardonnay', 'Viognier', 'Gewurztraminer', 'Mourvedre', 'Pinot Gris', 'Grenache', 'Syrah', 'Sangiovese', 'Sauvignon Blanc']\n",
    "valid_cultivars = ['Merlot']\n",
    "#experiment_list = ['concat_embedding_all', 'multiplicative_embedding_all','mtl_all','additive_embedding_all','single']\n",
    "experiment_list = glob.glob('./models/test_single/*.pkl')\n",
    "experiment_names = ['_'.join(x.split('/')[-1].split('.')[0].split('_')[:-1]) for x in experiment_list]\n",
    "\n",
    "for experiment_name, experiment in zip(experiment_names, experiment_list):\n",
    "    with open(experiment,'rb') as f:\n",
    "        data_dict = pickle.load(f)\n",
    "        print(experiment_name)\n",
    "        settingidx = experiment_name.split('_').index('setting')\n",
    "        keytolook = '_'.join(experiment_name.split('_')[:settingidx])\n",
    "        print(\"keytolook\",keytolook)\n",
    "        for cultivar in valid_cultivars:\n",
    "            avg = 0\n",
    "            for trial in data_dict[cultivar].keys():\n",
    "                avg+= data_dict[cultivar][trial][cultivar][1]\n",
    "            if cultivar not in write_csv_1.keys():\n",
    "                write_csv_1[cultivar] = {exp:0 for exp in experiment_names}\n",
    "            #print(\"Experiment\", \"mtl_all\", \"Cultivar\", cultivar, \"Loss\", avg/3)  \n",
    "            write_csv_1[cultivar][experiment_name] = avg/3.0     \n",
    "# experiment_list = ['concat_embedding_all', 'multiplicative_embedding_all','mtl_all','single']\n",
    "# experiment_list = ['ferguson']\n",
    "write_csv = dict()\n",
    "write_csv['Cultivar'] = list()\n",
    "write_csv.update({exp:list() for exp in experiment_names})\n",
    "for cultivar in write_csv_1.keys():\n",
    "    write_csv['Cultivar'].append(cultivar)\n",
    "    for exp in experiment_names:\n",
    "        write_csv[exp].append(write_csv_1[cultivar][exp])  \n",
    "pd.DataFrame(write_csv).to_csv('rohan.csv', header=True, index=False) "
   ]
  },
  {
   "cell_type": "code",
   "execution_count": 4,
   "id": "90e57928",
   "metadata": {},
   "outputs": [
    {
     "ename": "KeyError",
     "evalue": "'Zinfandel'",
     "output_type": "error",
     "traceback": [
      "\u001b[0;31m---------------------------------------------------------------------------\u001b[0m",
      "\u001b[0;31mKeyError\u001b[0m                                  Traceback (most recent call last)",
      "\u001b[0;32m/tmp/ipykernel_47476/2744515151.py\u001b[0m in \u001b[0;36m<module>\u001b[0;34m\u001b[0m\n\u001b[0;32m----> 1\u001b[0;31m \u001b[0mdata_dict\u001b[0m\u001b[0;34m[\u001b[0m\u001b[0mcultivar\u001b[0m\u001b[0;34m]\u001b[0m\u001b[0;34m\u001b[0m\u001b[0;34m\u001b[0m\u001b[0m\n\u001b[0m",
      "\u001b[0;31mKeyError\u001b[0m: 'Zinfandel'"
     ]
    }
   ],
   "source": [
    "data_dict[cultivar]"
   ]
  },
  {
   "cell_type": "code",
   "execution_count": 5,
   "id": "7567d790",
   "metadata": {},
   "outputs": [
    {
     "data": {
      "text/plain": [
       "dict_keys(['Merlot'])"
      ]
     },
     "execution_count": 5,
     "metadata": {},
     "output_type": "execute_result"
    }
   ],
   "source": [
    "data_dict.keys()\n"
   ]
  },
  {
   "cell_type": "code",
   "execution_count": null,
   "id": "4599d6eb",
   "metadata": {},
   "outputs": [],
   "source": []
  }
 ],
 "metadata": {
  "kernelspec": {
   "display_name": "Python 3 (ipykernel)",
   "language": "python",
   "name": "python3"
  },
  "language_info": {
   "codemirror_mode": {
    "name": "ipython",
    "version": 3
   },
   "file_extension": ".py",
   "mimetype": "text/x-python",
   "name": "python",
   "nbconvert_exporter": "python",
   "pygments_lexer": "ipython3",
   "version": "3.7.13"
  }
 },
 "nbformat": 4,
 "nbformat_minor": 5
}
