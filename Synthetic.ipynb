{
 "cells": [
  {
   "cell_type": "code",
   "execution_count": 3,
   "id": "b282070a",
   "metadata": {},
   "outputs": [],
   "source": [
    "import pandas as pd\n",
    "import glob"
   ]
  },
  {
   "cell_type": "code",
   "execution_count": 7,
   "id": "e6a0d814",
   "metadata": {},
   "outputs": [
    {
     "data": {
      "text/plain": [
       "['./Merlot\\\\ColdHardiness_Grape_Merlot_Anatone.csv',\n",
       " './Merlot\\\\ColdHardiness_Grape_Merlot_Coupeville.csv',\n",
       " './Merlot\\\\ColdHardiness_Grape_Merlot_Long.Beach.csv',\n",
       " './Merlot\\\\ColdHardiness_Grape_Merlot_Nooksack.csv',\n",
       " './Merlot\\\\ColdHardiness_Grape_Merlot_Oroville.E.csv',\n",
       " './Merlot\\\\ColdHardiness_Grape_Merlot_Puyallup.csv',\n",
       " './Merlot\\\\ColdHardiness_Grape_Merlot_Snohomish.csv',\n",
       " './Merlot\\\\ColdHardiness_Grape_Merlot_Sunside.N.csv',\n",
       " './Merlot\\\\ColdHardiness_Grape_Merlot_Thorp.csv',\n",
       " './Merlot\\\\ColdHardiness_Grape_Merlot_Underwood.csv']"
      ]
     },
     "execution_count": 7,
     "metadata": {},
     "output_type": "execute_result"
    }
   ],
   "source": [
    "all_data_path = \"./Merlot/\"\n",
    "cultivars = glob.glob(all_data_path+\"*.csv\")\n",
    "cultivars"
   ]
  },
  {
   "cell_type": "code",
   "execution_count": 18,
   "id": "a2d2a67e",
   "metadata": {},
   "outputs": [
    {
     "name": "stdout",
     "output_type": "stream",
     "text": [
      "cultivar: ./Merlot\\ColdHardiness_Grape_Merlot_Anatone.csv\n",
      "2\n",
      "2\n",
      "cultivar: ./Merlot\\ColdHardiness_Grape_Merlot_Coupeville.csv\n",
      "34\n",
      "34\n",
      "cultivar: ./Merlot\\ColdHardiness_Grape_Merlot_Long.Beach.csv\n",
      "91\n",
      "91\n",
      "cultivar: ./Merlot\\ColdHardiness_Grape_Merlot_Nooksack.csv\n",
      "132\n",
      "132\n",
      "cultivar: ./Merlot\\ColdHardiness_Grape_Merlot_Oroville.E.csv\n",
      "9\n",
      "9\n",
      "cultivar: ./Merlot\\ColdHardiness_Grape_Merlot_Puyallup.csv\n",
      "107\n",
      "107\n",
      "cultivar: ./Merlot\\ColdHardiness_Grape_Merlot_Snohomish.csv\n",
      "170\n",
      "170\n",
      "cultivar: ./Merlot\\ColdHardiness_Grape_Merlot_Sunside.N.csv\n",
      "1\n",
      "1\n",
      "cultivar: ./Merlot\\ColdHardiness_Grape_Merlot_Thorp.csv\n",
      "38\n",
      "38\n",
      "cultivar: ./Merlot\\ColdHardiness_Grape_Merlot_Underwood.csv\n",
      "0\n",
      "0\n"
     ]
    }
   ],
   "source": [
    "for cultivar in cultivars:\n",
    "    df = pd.read_csv(cultivar)\n",
    "    df_dormant = df.loc[df['DORMANT_SEASON'] == 1]\n",
    "    df_locate = df_dormant.loc[df_dormant['MAX_AT'] == -200]\n",
    "    df_locate_1 = df_dormant.loc[df_dormant['MAX_AT'] == -100]\n",
    "    print(\"cultivar: \" + str(cultivar))\n",
    "    print(df_dormant['PREDICTED_LTE50'].isna().sum())\n",
    "    print(len(df_locate)+len(df_locate_1))"
   ]
  },
  {
   "cell_type": "code",
   "execution_count": null,
   "id": "d5867e47",
   "metadata": {},
   "outputs": [],
   "source": []
  }
 ],
 "metadata": {
  "kernelspec": {
   "display_name": "Python 3",
   "language": "python",
   "name": "python3"
  },
  "language_info": {
   "codemirror_mode": {
    "name": "ipython",
    "version": 3
   },
   "file_extension": ".py",
   "mimetype": "text/x-python",
   "name": "python",
   "nbconvert_exporter": "python",
   "pygments_lexer": "ipython3",
   "version": "3.8.8"
  }
 },
 "nbformat": 4,
 "nbformat_minor": 5
}
